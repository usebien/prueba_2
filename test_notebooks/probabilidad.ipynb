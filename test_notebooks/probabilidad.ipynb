{
 "cells": [
  {
   "cell_type": "code",
   "execution_count": 1,
   "metadata": {},
   "outputs": [],
   "source": [
    "import pandas as pd\n",
    "import statistics\n",
    "import numpy as np\n",
    "import random\n",
    "from random import sample\n",
    "\n",
    "import itertools\n",
    "from itertools import combinations_with_replacement\n",
    "from collections import Counter "
   ]
  },
  {
   "cell_type": "markdown",
   "metadata": {},
   "source": [
    "UNIDAD 1\n",
    "\n",
    "PROBABILIDAD\n",
    "\n",
    "> La programación es un arte creativo. - Margaret Hamilton.\n",
    "\n",
    "---\n"
   ]
  },
  {
   "cell_type": "markdown",
   "metadata": {},
   "source": [
    "Revisa las siguientes reglas desde el Material de Clase o desde los libros citados en Bibliografía de la Cátedra:\n",
    "\n",
    "$$\n",
    "\\text{Para cualquier evento $A$:}\\\\\n",
    "\\text{$P$($A$)+ $P$($A^\\prime$) =1}\n",
    "$$\n",
    "\n",
    "$$\n",
    "\\text{Para dos eventos $A$ y $B$:}\\\\\n",
    "\\text{Regla de la suma:}\\quad \\text{$P$($A \\cup B$) = $P$($A$) + $P$($B$) - $P$($A \\cap B$)}\\\\\n",
    "\\text{Regla del producto:}\\quad \\text{$P$($A \\cap B$) = $P$($A$) $\\cdot$ $P$($B|A$)}\n",
    "$$\n"
   ]
  },
  {
   "cell_type": "markdown",
   "metadata": {},
   "source": [
    "---\n"
   ]
  },
  {
   "cell_type": "markdown",
   "metadata": {},
   "source": [
    "- Ejercicio 1\n",
    "\n",
    "Contexto: lanzamiento de una moneda.\n",
    "\n",
    "1.a. Describe el espacio muestra (S) para el experimento que consiste en lanzar una moneda. O bien: expresa el conjunto de todos los resultados posibles en el lanzamiento de una moneda.\n"
   ]
  },
  {
   "cell_type": "code",
   "execution_count": 3,
   "metadata": {},
   "outputs": [
    {
     "data": {
      "text/plain": [
       "[('cara',), ('cruz',)]"
      ]
     },
     "execution_count": 3,
     "metadata": {},
     "output_type": "execute_result"
    }
   ],
   "source": [
    "# Aplicación Ejercicio 1.a.\n",
    "\n",
    "moneda = ['cara', 'cruz'] \n",
    "s =  list(itertools.product(moneda, \n",
    "                            repeat=1, # 1, un lanzamiento. Para dos lanzamientos: repeat=2.\n",
    "                            ))\n",
    "s"
   ]
  },
  {
   "cell_type": "markdown",
   "metadata": {},
   "source": [
    "1.b. Asigna las probabilidades correspondientes a cada punto muestral y comenta por qué los eventos \"obtener cara\" y \"obtener cruz\" son eventos mutuamente <ins>excluyentes</ins>.\n"
   ]
  },
  {
   "cell_type": "code",
   "execution_count": 4,
   "metadata": {},
   "outputs": [
    {
     "name": "stdout",
     "output_type": "stream",
     "text": [
      "[[0.5]\n",
      " [0.5]]\n"
     ]
    }
   ],
   "source": [
    "# Aplicación Ejercicio 1.b.\n",
    "\n",
    "p_cara =1/2\n",
    "p_cruz =1/2\n",
    "s = list(itertools.product((p_cara, p_cruz), repeat=1))\n",
    "print(np.round(s,2))"
   ]
  },
  {
   "cell_type": "markdown",
   "metadata": {},
   "source": [
    "- Ejercicio 2\n",
    "\n",
    "Contexto: dos lanzamientos de una moneda.\n",
    "\n",
    "Actividad: modificando las líneas de código del Ejercicio 1, intenta resolver los siguientes incisos.\n",
    "\n",
    "2.a. Describe el espacio muestra (S) para el experimento que consiste en lanzar una moneda dos veces.\n",
    "\n",
    "2.b. Asigna las probabilidades a cada punto muestral y comenta por qué el los eventos \"obtener cara en el primer lamzamiento\" y \"obtener cara en el segundo lanzamiento, son eventos <ins>independientes</ins>.\n",
    "\n",
    "2.c. Responde:\n",
    "\n",
    "2.c.1. ¿Cuál es la probabilidad de obtener dos caras?\n",
    "\n",
    "2.c.2. ¿Cuál es la probabilidad de obtener al menos una cara?\n"
   ]
  },
  {
   "cell_type": "markdown",
   "metadata": {},
   "source": [
    "- Ejercicio 3\n",
    "\n",
    "Contexto: tres lanzamientos de una moneda.\n",
    "\n",
    "Actividad: al igual que en los ejercicios anteriores, aplica las modificaciones necesarias en las líneas de código para resolver los siguientes incisos. Mientras resuelves, comenta con tus propias palabras -es decir, sin forzar vocabulario técnico- sobre qué comienzas a visualizar como resultado de incrementar la cantidad de lanzamientos. Extiende esa visualización considerando por ejemplo, 20 o quizá 100 lanzamientos.\n",
    "\n",
    "3.a. Describe el espacio muestra (S) para el experimento que consiste en lanzar tres veces una moneda.\n",
    "\n",
    "3.b. Asigna las probabilidades correspondientes.\n",
    "\n",
    "3.c. Responde:\n",
    "\n",
    "En tres lanzamientos:\n",
    "\n",
    "3.c.1. ¿Cuál es la probabilidad de obtener ninguna cara?\n",
    "\n",
    "3.c.1. ¿Cuál es la probabilidad de obtener alguna cara?\n"
   ]
  },
  {
   "cell_type": "markdown",
   "metadata": {},
   "source": [
    "- Ejercicio 4\n",
    "\n",
    "Contexto: navegadores web.\n",
    "\n",
    "A continuación aparece información para 3 grupos de estudiantes a los que se les registró el nombre del navegador que utilizan en este momento.\n",
    "\n",
    "Compara los grupos y describe en qué casos existen elementos en común:\n"
   ]
  },
  {
   "cell_type": "code",
   "execution_count": 5,
   "metadata": {},
   "outputs": [],
   "source": [
    "# Aplicación Ejercicio 4\n",
    "\n",
    "grupo_a = {'Mozilla Firefox', 'Google Chrome', 'Edge', 'Safari', 'Brave'} \n",
    "grupo_b = {'Brave','Google Chrome'}\n",
    "grupo_c = {'Safari', 'Opera'}"
   ]
  },
  {
   "cell_type": "code",
   "execution_count": 7,
   "metadata": {},
   "outputs": [
    {
     "name": "stdout",
     "output_type": "stream",
     "text": [
      "A ∩ B =  {'Brave', 'Google Chrome'}\n"
     ]
    }
   ],
   "source": [
    "# Aplicación Ejercicio 4\n",
    "\n",
    "print(f'A ∩ B = ',grupo_a & grupo_b )\n",
    "\n",
    "# Copia y modifica la línea de código anterior para aplicar las comparaciones restantes. "
   ]
  },
  {
   "cell_type": "markdown",
   "metadata": {},
   "source": [
    "- Ejercicio 5\n",
    "\n",
    "Contexto: sistemas operativos.\n",
    "\n",
    "En un curso de posgrado de la Universidad hay 10 estudiantes cuyas computadoras personales tienen diferentes sistemas operativos (so).\n",
    "\n",
    "Se definen los siguientes eventos -que consideraremos como excluyentes-:\n",
    "\n",
    "\"La computadora utiliza macOS\" : mac\n",
    "\n",
    "\"La computadora utiliza Microsoft Windows\" : win\n",
    "\n",
    "Observa la siguiente información y asigna las probabilidades correspondientes.\n"
   ]
  },
  {
   "cell_type": "code",
   "execution_count": null,
   "metadata": {},
   "outputs": [],
   "source": [
    "# Información Ejercicio 5\n",
    "\n",
    "data = [\n",
    "        [1, 'Windows'], \n",
    "        [2, 'Windows'], \n",
    "        [3, 'macOS'], \n",
    "        [4, 'Windows'], \n",
    "        [5, 'macOS'], \n",
    "        [6, 'Windows'], \n",
    "        [7, 'Windows'],\n",
    "        [8, 'macOS'],\n",
    "        [9, 'Windows'],\n",
    "        [10, 'macOS']]\n",
    "df_so = pd.DataFrame(data, columns=['computadora','so'])\n",
    "df_so\n"
   ]
  },
  {
   "cell_type": "code",
   "execution_count": 4,
   "metadata": {},
   "outputs": [
    {
     "name": "stdout",
     "output_type": "stream",
     "text": [
      "Información para la primera selección:\n",
      "Windows    6\n",
      "macOS      4\n",
      "Name: so, dtype: int64\n"
     ]
    }
   ],
   "source": [
    "# Información para la selección de la primera computadora:\n",
    "\n",
    "print(f'Información para la primera selección:')\n",
    "print(df_so['so'].value_counts())"
   ]
  },
  {
   "cell_type": "code",
   "execution_count": 17,
   "metadata": {},
   "outputs": [
    {
     "name": "stdout",
     "output_type": "stream",
     "text": [
      "P(mac₁) = 0.4\n",
      "P(win₁) = 0.6\n"
     ]
    }
   ],
   "source": [
    "# Atención: agregamos subíndices para comunicar que se trata de la primera selección, o como aparece en alguna bibliografía, para indicar que se trata de la primera etapa del experimento.\n",
    "\n",
    "# Los subíndices nos ayudarán en la compresión de aquellos eventos más complejos, como por ejemplo, aquellos relacionados con el Teorema de Bayes. \n",
    "\n",
    "print(f'P(mac\\N{SUBSCRIPT ONE}) =', round(4/10,2))\n",
    "print(f'P(win\\N{SUBSCRIPT ONE}) =', round(6/10,2))"
   ]
  },
  {
   "cell_type": "markdown",
   "metadata": {},
   "source": [
    "Actividad:\n",
    "\n",
    "Considera que los eventos propuestos son mutuamente excluyentes. Luego describe el espacio muestra (S) para el experimento que consiste en seleccionar de manera aleatoria dos computadoras y observar cuál es su sistema operativo.\n",
    "\n",
    "Recuerda que la selección se puede aplicar con o sin reposición. Por lo tanto:\n",
    "\n",
    "5.a. Describe el espacio muestra (S) para el experimento que consiste en seleccionar dos computadoras de manera aleatoria <ins>con reposición</ins> y observar el tipo de sistema operativo que utilizan.\n",
    "\n",
    "5.b. Responde:\n",
    "\n",
    "5.b.1. ¿Cuál es la probabilidad de que amabas computadoras seleccionadas utilicen macOS.\n",
    "\n",
    "5.a.2. ¿Cuál es la probabilidad de que alguna computadora utilice Microsoft Windows.\n",
    "\n",
    "5.c. Describe el espacio muestra (S) para el experimento que consiste en seleccionar dos computadoras <ins>sin reposición</ins> y observar el tipo de sistema operativo.\n",
    "\n",
    "5.c.1. Comenta cuál es el impacto que observas en las probabilidades si no se repone el elemento seleccionado. Es decir, verifica cuál es el impacto en las probabilidades condicionales para la segunda selección.\n",
    "\n",
    "5.c.2. Verifica el inciso anterior calculando cuál es la probabilidad de que amabas computadoras seleccionadas utilicen macOS. Luego, compara con el resultado obtenido en el punto 5.a.2.\n"
   ]
  },
  {
   "cell_type": "markdown",
   "metadata": {},
   "source": [
    "- Ejercicio 6\n",
    "\n",
    "La siguiente información se obtuvo de un grupo de estudiantes de la carrera de Informática. Se les consultó sobre la carrera que estaban cursando (carrera), así como el sistema operativo de su computadora (so) y también el tipo de memoria (RAM).\n"
   ]
  },
  {
   "cell_type": "code",
   "execution_count": 3,
   "metadata": {},
   "outputs": [],
   "source": [
    "data = [\n",
    "        ['licenciatura', 'linux', '16GB RAM'], \n",
    "        ['profesorado', 'windows', '8GB RAM'], \n",
    "        ['licenciatura', 'windows', '16GB RAM'], \n",
    "        ['profesorado', 'macOS', '8GB RAM'], \n",
    "        ['profesorado', 'linux', '8GB RAM'], \n",
    "        ['profesorado', 'windows', '16GB RAM'], \n",
    "        ['profesorado', 'windows', '8GB RAM'],\n",
    "        ['licenciatura', 'macOS', '8GB RAM'],\n",
    "        ['profesorado', 'linux', '8GB RAM'],\n",
    "        ['licenciatura', 'macOS', '16GB RAM']\n",
    "        ]\n",
    "\n",
    "df_estudio = pd.DataFrame(data, columns=['carrera', 'so', 'RAM'])"
   ]
  },
  {
   "cell_type": "markdown",
   "metadata": {},
   "source": [
    "Actividades:\n",
    "\n",
    "6.a. Construye una tabla de doble entrada que cruce **carrera** y **sistema operativo**.\n",
    "\n",
    "6.b. Responde:\n",
    "\n",
    "6.b.1. ¿Cuál es la probabilidad de que el estudiante estudie **licenciatura** y utilice en su computadora el sistema operativo macOS?\n",
    "\n",
    "6.c. Construye otra tabla que cruce **carrera** y **RAM**.\n",
    "\n",
    "6.c.1. ¿Cuál es la probabilidad de que estudie la carrera **profesorado** o su computadora tenga **8GB** de memoria RAM?\n"
   ]
  },
  {
   "cell_type": "code",
   "execution_count": null,
   "metadata": {},
   "outputs": [],
   "source": [
    "# Solución 6.a.\n",
    "\n",
    "pd.crosstab(df_estudio.carrera, \n",
    "            df_estudio.so,  \n",
    "            normalize='all',\n",
    "            margins=True)"
   ]
  },
  {
   "cell_type": "code",
   "execution_count": null,
   "metadata": {},
   "outputs": [],
   "source": [
    "# Solución 6.c.\n",
    "\n",
    "pd.crosstab(df_estudio.carrera, \n",
    "            df_estudio.RAM,  \n",
    "            normalize='all',\n",
    "            margins=True)"
   ]
  },
  {
   "cell_type": "markdown",
   "metadata": {},
   "source": [
    "- Ejercicio 7\n",
    "\n",
    "El siguiente ejercicio corresponde al libro _Manual básico de Estadística para Ingeniería Informática_ (consular en Bibliografía de la Cátedra).\n",
    "\n",
    "Se trata de una encuesta sobre la satisfacción de los empleados de una empresa que utilizan tres sistemas operativos: A, B y C.\n"
   ]
  },
  {
   "cell_type": "code",
   "execution_count": null,
   "metadata": {},
   "outputs": [],
   "source": [
    "# Información: \n",
    "\n",
    "df = pd.read_csv('https://raw.githubusercontent.com/usebien/concurso/refs/heads/main/data/probabilidad/so_satisfecho.csv',delimiter=\";\")"
   ]
  },
  {
   "cell_type": "code",
   "execution_count": null,
   "metadata": {},
   "outputs": [],
   "source": [
    "# Ahora puedes visualizar la información:\n",
    "df"
   ]
  },
  {
   "cell_type": "markdown",
   "metadata": {},
   "source": [
    "Actividades:\n",
    "\n",
    "7.a. Construye una tabla que cruce **so** y **satisfecho**.\n"
   ]
  },
  {
   "cell_type": "code",
   "execution_count": null,
   "metadata": {},
   "outputs": [],
   "source": [
    "# Solución 7.a.\n",
    "# Tabla de doble entrada  y probabilidades:\n",
    "\n",
    "pd.crosstab(df.so,\n",
    "            df.satisfecho,\n",
    "            normalize='all',\n",
    "            margins=True)"
   ]
  },
  {
   "cell_type": "markdown",
   "metadata": {},
   "source": [
    "7.b. En relación a la información de la tabla, ¿qué es más probable y menos probable en relación a los eventos considerados.\n",
    "\n",
    "7.c. Responde:\n",
    "\n",
    "7.c.1. Si se selecciona de manera aleatoria un empleado, ¿cuál es la probabilidad de que esté satisfecho con el sistema operativo? ¿Cuál la que no esté satisfecho? ¿Qué nombre recibe este tipo de probabilidades?\n",
    "\n",
    "7.c.2. Si se sabe que el empleado no está satisfecho con el sistema operativo, ¿cuál es la probabilidad de que esté utilizando el sistema B?\n"
   ]
  },
  {
   "cell_type": "markdown",
   "metadata": {},
   "source": [
    "- Ejercicio 8\n",
    "\n",
    "Lee el enunciado del Ejercicio 2.24 -página 67- del libro de Jay Devore.\n",
    "\n",
    "8.a. Guiándote por las líneas de código utilizadas en los ejercicios anteriores, construye un dataFrame a partir de la información que se visualiza en la tabla. Nota de ayuda: primero, presta atención a la cantidad total de componentes; luego, por otro lado, completa la información marginal de tabla.\n",
    "\n",
    "8.b. Verifica que llegaste al resultado correcto mediante la función _pd.crosstab_.\n"
   ]
  },
  {
   "cell_type": "markdown",
   "metadata": {},
   "source": [
    "- Campo de estudio y aplicación\n",
    "\n",
    "En este punto la propuesta es aplicar lo aprendido en una situación quizá posible en tus futuros desempeños como profesional.\n",
    "\n",
    "Recuerda que si te apasiona algún contexto particular -más allá de la especialización de tu carrera- como por ejemplo, la música o el deporte, entre otros, es posible compartir ese tipo de información.\n",
    "\n",
    "Actividades:\n",
    "\n",
    "Primera tarea: visitar este sitio y verificar qué tipo de licencia tiene la información: [Benchmark results of popular CPUs, scraped from Cinebench R23](https://www.kaggle.com/datasets/alanjo/cpu-benchmarks/data?select=CPU_r23_v2.csv)\n",
    "\n",
    "Segunda: visualiza DataFrame, analiza su estructura e intenta formular algunas preguntas en términos de probabilidad que sean de tu interés.\n",
    "\n",
    "Luego -en base a las líneas de código aprendidas- aplica alguna de ellas e intenta responder las preguntas que formulaste.\n"
   ]
  },
  {
   "cell_type": "code",
   "execution_count": null,
   "metadata": {},
   "outputs": [],
   "source": [
    "df_cpu = pd.read_csv('https://raw.githubusercontent.com/usebien/concurso/refs/heads/main/data/probabilidad/CPU_r23_v2.csv')"
   ]
  },
  {
   "cell_type": "markdown",
   "metadata": {},
   "source": [
    "df_cpu\n"
   ]
  },
  {
   "cell_type": "markdown",
   "metadata": {},
   "source": [
    "---\n"
   ]
  },
  {
   "cell_type": "markdown",
   "metadata": {},
   "source": [
    "- Referencias\n",
    "\n",
    "Devore, J. L. (2008). _Probabilidad y Estadística para Ingeniería y Ciencias. (7ma Edición)_. Cengage Learning Editores.\n",
    "\n",
    "Maldonado, A. et al. (2023). _Manual básico de Estadística para Ingeniería Informática_. Editorial Universidad de Almería.\n"
   ]
  }
 ],
 "metadata": {
  "kernelspec": {
   "display_name": "Python 3",
   "language": "python",
   "name": "python3"
  },
  "language_info": {
   "codemirror_mode": {
    "name": "ipython",
    "version": 3
   },
   "file_extension": ".py",
   "mimetype": "text/x-python",
   "name": "python",
   "nbconvert_exporter": "python",
   "pygments_lexer": "ipython3",
   "version": "3.10.8"
  }
 },
 "nbformat": 4,
 "nbformat_minor": 2
}
